{
  "nbformat": 4,
  "nbformat_minor": 0,
  "metadata": {
    "colab": {
      "provenance": [],
      "authorship_tag": "ABX9TyMztFS/KeEafo60RMIzCvDF",
      "include_colab_link": true
    },
    "kernelspec": {
      "name": "python3",
      "display_name": "Python 3"
    },
    "language_info": {
      "name": "python"
    }
  },
  "cells": [
    {
      "cell_type": "markdown",
      "metadata": {
        "id": "view-in-github",
        "colab_type": "text"
      },
      "source": [
        "<a href=\"https://colab.research.google.com/github/MarianoSanchez0214/Comandos_Python/blob/main/Comandos_Python.ipynb\" target=\"_parent\"><img src=\"https://colab.research.google.com/assets/colab-badge.svg\" alt=\"Open In Colab\"/></a>"
      ]
    },
    {
      "cell_type": "code",
      "source": [
        "# 1\n",
        "c = 3.14 + 2.73j\n",
        "c = complex(3.14, 2.73)  # lo mismo que la línea anterior\n",
        "\n",
        "# Acceder a las partes real e imaginaria\n",
        "parte_real = c.real\n",
        "parte_imaginaria = c.imag\n",
        "\n",
        "# Calcular el conjugado\n",
        "conjugado = c.conjugate()\n",
        "\n",
        "# Multiplicación por un número\n",
        "multiplicado_por_2 = c * 2\n",
        "\n",
        "# Potencia\n",
        "elevado_al_cuadrado = c ** 2\n",
        "\n",
        "# Crear otro número complejo\n",
        "d = 1 + 1j\n",
        "\n",
        "# Resta\n",
        "resta = c - d\n",
        "\n",
        "# Imprimir los resultados\n",
        "print(\"Parte Real:\", parte_real)\n",
        "print(\"Parte Imaginaria:\", parte_imaginaria)\n",
        "print(\"Conjugado:\", conjugado)\n",
        "print(\"Multiplicado por 2:\", multiplicado_por_2)\n",
        "print(\"Elevado al cuadrado:\", elevado_al_cuadrado)\n",
        "print(\"Resta con d:\", resta)"
      ],
      "metadata": {
        "id": "nuxtnARVC0kO"
      },
      "execution_count": null,
      "outputs": []
    },
    {
      "cell_type": "code",
      "source": [
        "# 2\n",
        "from decimal import Decimal as D\n",
        "\n",
        "# Convertir 3.14 de float a Decimal\n",
        "resultado1 = D(3.14)\n",
        "\n",
        "# Convertir 3.14 de string a Decimal\n",
        "resultado2 = D('3.14')\n",
        "\n",
        "# Realizar operaciones con números decimales\n",
        "resultado3 = D(0.1) * D(3) - D(0.3)\n",
        "resultado4 = D('0.1') * D(3) - D('0.3')\n",
        "\n",
        "# Convertir 1.4 a su representación de fracción\n",
        "resultado5 = D('1.4').as_integer_ratio()\n",
        "\n",
        "# Imprimir los resultados\n",
        "print(\"Resultado 1:\", resultado1)\n",
        "print(\"Resultado 2:\", resultado2)\n",
        "print(\"Resultado 3:\", resultado3)\n",
        "print(\"Resultado 4:\", resultado4)\n",
        "print(\"Resultado 5:\", resultado5)"
      ],
      "metadata": {
        "id": "PvSaFhYKDZrB"
      },
      "execution_count": null,
      "outputs": []
    },
    {
      "cell_type": "code",
      "source": [
        "# 3\n",
        "a = [1, 3, 5, 7]\n",
        "print(min(a))  # Imprime el valor mínimo en la lista\n",
        "print(max(a))  # Imprime el valor máximo en la lista\n",
        "print(sum(a))  # Imprime la suma de todos los valores en la lista\n",
        "\n",
        "from math import prod\n",
        "print(prod(a))  # Imprime el producto de todos los valores en la lista\n",
        "print(len(a))   # Imprime el número de elementos en la lista\n",
        "\n",
        "b = [6, 7, 8]\n",
        "print(a + b)    # Imprime la concatenación de las listas a y b\n",
        "print(a * 2)    # Imprime la lista a multiplicada por 2\n",
        "print(sum(a * 2))"
      ],
      "metadata": {
        "id": "_tAVUMItESTg"
      },
      "execution_count": null,
      "outputs": []
    },
    {
      "cell_type": "code",
      "source": [
        "# 4\n",
        "from operator import itemgetter\n",
        "\n",
        "a = [(5, 3), (1, 3), (1, 2), (2, -1), (4, 9)]\n",
        "\n",
        "resultado1 = sorted(a)\n",
        "print(\"Ordenado por defecto:\", resultado1)\n",
        "\n",
        "resultado2 = sorted(a, key=itemgetter(0))\n",
        "print(\"Ordenado por el primer elemento:\", resultado2)\n",
        "\n",
        "resultado3 = sorted(a, key=itemgetter(0, 1))\n",
        "print(\"Ordenado por el primer y segundo elemento:\", resultado3)\n",
        "\n",
        "resultado4 = sorted(a, key=itemgetter(1))\n",
        "print(\"Ordenado por el segundo elemento:\", resultado4)\n",
        "\n",
        "resultado5 = sorted(a, key=itemgetter(1), reverse=True)\n",
        "print(\"Ordenado por el segundo elemento en orden descendente:\", resultado5)"
      ],
      "metadata": {
        "id": "gsH_BmJqJOpv"
      },
      "execution_count": null,
      "outputs": []
    },
    {
      "cell_type": "code",
      "source": [
        "# 5\n",
        "# Crear un bytearray vacío\n",
        "bytearray_vacio = bytearray()  # bytearray vacío\n",
        "print(bytearray_vacio)  # Salida: bytearray(b'')\n",
        "\n",
        "# Crear un bytearray con 10 bytes llenos de ceros\n",
        "bytearray_ceros = bytearray(10)\n",
        "print(bytearray_ceros)  # Salida: bytearray(b'\\x00\\x00\\x00\\x00\\x00\\x00\\x00\\x00\\x00\\x00')\n",
        "\n",
        "# Crear un bytearray a partir de un iterable de enteros\n",
        "bytearray_iterable = bytearray(range(5))\n",
        "print(bytearray_iterable)  # Salida: bytearray(b'\\x00\\x01\\x02\\x03\\x04')\n",
        "\n",
        "# Crear un bytearray a partir de una secuencia de bytes\n",
        "name = bytearray(b'Lina')\n",
        "\n",
        "# Reemplazar 'L' por 'l' en el bytearray\n",
        "name.replace(b'L', b'l')\n",
        "print(name)  # Salida: bytearray(b'lina')\n",
        "\n",
        "# Comprobar si el bytearray termina con 'na'\n",
        "termina_con_na = name.endswith(b'na')\n",
        "print(termina_con_na)  # Salida: True\n",
        "\n",
        "# Convertir todos los caracteres del bytearray a mayúsculas\n",
        "name_en_mayusculas = name.upper()\n",
        "print(name_en_mayusculas)  # Salida: bytearray(b'LINA')\n",
        "\n",
        "# Contar cuántas veces aparece 'L' en el bytearray\n",
        "conteo_L = name.count(b'L')\n",
        "print(conteo_L)  # Salida: 1"
      ],
      "metadata": {
        "id": "8MRAhVoqNt2O"
      },
      "execution_count": null,
      "outputs": []
    },
    {
      "cell_type": "code",
      "source": [
        "# 6\n",
        "def calcular_factorial(numero):\n",
        "    if numero == 0:\n",
        "        return 1\n",
        "    else:\n",
        "        resultado = 1\n",
        "        for i in range(1, numero + 1):\n",
        "            resultado *= i\n",
        "        return resultado\n",
        "\n",
        "# función para calcular el factorial de 5\n",
        "resultado = calcular_factorial(5)\n",
        "print(resultado)  # Esto imprimirá el factorial de cualquier numeo definido\n"
      ],
      "metadata": {
        "id": "WrDqZd9QPoqJ"
      },
      "execution_count": null,
      "outputs": []
    },
    {
      "cell_type": "code",
      "source": [
        "# 7\n",
        "# Importar la clase Fraction del módulo fractions\n",
        "from fractions import Fraction\n",
        "\n",
        "# Crear una fracción 10/6\n",
        "fraccion1 = Fraction(10, 6)\n",
        "print(fraccion1)  # El resultado se imprime como \"5/3\"\n",
        "\n",
        "# Crear una fracción 5/3\n",
        "fraccion2 = Fraction(5, 3)\n",
        "print(fraccion2)  # El resultado se imprime como \"5/3\"\n",
        "\n",
        "# Sumar dos fracciones 1/3 y 2/3\n",
        "resultado_suma = Fraction(1, 3) + Fraction(2, 3)\n",
        "print(resultado_suma)  # El resultado se imprime como \"1\"\n",
        "\n",
        "# Crear una fracción 1/1\n",
        "fraccion3 = Fraction(1, 1)\n",
        "print(fraccion3)  # El resultado se imprime como \"1\"\n",
        "\n",
        "# Asignar una fracción 10/6 a la variable f\n",
        "f = Fraction(10, 6)\n",
        "\n",
        "# Acceder al numerador de la fracción f\n",
        "numerador = f.numerator\n",
        "print(numerador)  # El numerador (5) se imprime\n",
        "\n",
        "# Acceder al denominador de la fracción f\n",
        "denominador = f.denominator\n",
        "print(denominador)  # El denominador (3) se imprime\n",
        "\n",
        "# Obtener la fracción reducida al máximo como una tupla de numerador y denominador\n",
        "fraccion_reducida = f.as_integer_ratio()\n",
        "print(fraccion_reducida)  # La tupla (5, 3) se imprime"
      ],
      "metadata": {
        "id": "bpCvDb1gRmOr"
      },
      "execution_count": null,
      "outputs": []
    },
    {
      "cell_type": "code",
      "source": [
        "# 8\n",
        "from collections import defaultdict\n",
        "\n",
        "# Texto de ejemplo\n",
        "texto = \"Este texto es el ejemplo para el codigo que cuenta las palabras que se repiten una o mas veces.\"\n",
        "\n",
        "# Crear un defaultdict con un valor predeterminado de 0\n",
        "conteo_palabras = defaultdict(int)\n",
        "\n",
        "# Dividir el texto en palabras y contar su frecuencia\n",
        "palabras = texto.split()\n",
        "for palabra in palabras:\n",
        "    # Incrementar el contador de la palabra en 1\n",
        "    conteo_palabras[palabra] += 1\n",
        "\n",
        "# Mostrar el resultado\n",
        "for palabra, contador in conteo_palabras.items():\n",
        "    print(f'La palabra \"{palabra}\" aparece {contador} veces.')"
      ],
      "metadata": {
        "id": "czrE3AJ-U2Xa"
      },
      "execution_count": null,
      "outputs": []
    },
    {
      "cell_type": "code",
      "source": [
        "# 9\n",
        "# Ejemplo con números enteros pequeños en el rango común\n",
        "a = 10\n",
        "b = 10\n",
        "\n",
        "# Verificamos si a y b tienen la misma identidad de memoria\n",
        "resultado = id(a) == id(b)\n",
        "print(resultado)  # Esto imprimirá True, ya que 10 está interned\n",
        "\n",
        "# Crear otro número 10 y verificar su identidad de memoria\n",
        "c = 10\n",
        "resultado2 = id(a) == id(c)\n",
        "print(resultado2)  # Esto también imprimirá True"
      ],
      "metadata": {
        "id": "_BDa0G1sXdXd"
      },
      "execution_count": null,
      "outputs": []
    },
    {
      "cell_type": "code",
      "source": [
        "# 10\n",
        "# Usar un bucle for para imprimir números del 0 al 4\n",
        "for number in range(5):\n",
        "    print(number)\n",
        "\n",
        "# Crear una lista de números del 0 al 9 utilizando range() y list()\n",
        "lista1 = list(range(10))\n",
        "print(lista1)\n",
        "\n",
        "# Crear una lista de números del 3 al 7 utilizando range() y list()\n",
        "lista2 = list(range(3, 8))\n",
        "print(lista2)\n",
        "\n",
        "# Crear una lista de números desde -10 hasta 10 con un paso de 4 numeros cada uno\n",
        "lista3 = list(range(-10, 10, 4))\n",
        "print(lista3)"
      ],
      "metadata": {
        "id": "ukxw_udcZQVf"
      },
      "execution_count": null,
      "outputs": []
    },
    {
      "cell_type": "code",
      "source": [
        "# 11\n",
        "import shutil\n",
        "from pathlib import Path\n",
        "\n",
        "base_path = Path('ops_example')\n",
        "\n",
        "# Realizamos una limpieza inicial por si acaso\n",
        "if base_path.exists() and base_path.is_dir():\n",
        "    shutil.rmtree(base_path)\n",
        "\n",
        "# Ahora creamos el directorio\n",
        "base_path.mkdir()\n",
        "\n",
        "path_b = base_path / 'A' / 'B'\n",
        "path_c = base_path / 'A' / 'C'\n",
        "path_d = base_path / 'A' / 'D'\n",
        "path_b.mkdir(parents=True)\n",
        "\n",
        "# No es necesario usar 'parents' ahora, ya que 'A' ha sido creado\n",
        "path_c.mkdir()\n",
        "\n",
        "# Agregamos tres archivos en 'ops_example/A/B'\n",
        "for filename in ('ex1.txt', 'ex2.txt', 'ex3.txt'):\n",
        "    with open(path_b / filename, 'w') as stream:\n",
        "        stream.write(f'Some content here in {filename}\\n')\n",
        "\n",
        "shutil.move(path_b, path_d)\n",
        "\n",
        "# También podemos renombrar archivos\n",
        "ex1 = path_d / 'ex1.txt'\n",
        "ex1.rename(ex1.parent / 'ex1.renamed.txt')"
      ],
      "metadata": {
        "id": "7I64oxHtd-co"
      },
      "execution_count": null,
      "outputs": []
    },
    {
      "cell_type": "code",
      "source": [
        "# 12\n",
        "# Importamos la clase Path de la biblioteca pathlib\n",
        "from pathlib import Path\n",
        "# Creamos un objeto Path que representa la ruta 'fear.txt'\n",
        "p = Path('fear.txt')\n",
        "# Imprimimos la ruta absoluta de 'fear.txt'\n",
        "print(p.absolute())\n",
        "# Imprimimos el nombre del archivo ('fear.txt')\n",
        "print(p.name)\n",
        "# Imprimimos la ruta absoluta del directorio padre de 'fear.txt'\n",
        "print(p.parent.absolute())\n",
        "# Imprimimos la extensión del archivo (si tiene una)\n",
        "print(p.suffix)\n",
        "# Imprimimos una tupla que contiene las partes de la ruta\n",
        "print(p.parts)\n",
        "# Imprimimos una tupla que contiene las partes de la ruta absoluta\n",
        "print(p.absolute().parts)\n",
        "# Creamos un nuevo objeto Path que representa la ruta al archivo 'README.rst'\n",
        "# en el directorio que es dos niveles por encima del directorio que contiene 'fear.txt'\n",
        "readme_path = p.parent / '..' / '..' / 'README.rst'\n",
        "# Imprimimos la ruta absoluta de 'README.rst'\n",
        "print(readme_path.absolute())\n",
        "# Resolvemos la ruta y la imprimimos (eliminando componentes redundantes y convirtiendo rutas simbólicas)\n",
        "print(readme_path.resolve())"
      ],
      "metadata": {
        "id": "W2FN8EMBxTUE"
      },
      "execution_count": null,
      "outputs": []
    },
    {
      "cell_type": "code",
      "source": [
        "# 13\n",
        "# Importamos las clases NamedTemporaryFile y TemporaryDirectory de la biblioteca tempfile\n",
        "from tempfile import NamedTemporaryFile, TemporaryDirectory\n",
        "\n",
        "# Creamos un directorio temporal en el directorio actual\n",
        "# El uso del contexto with garantiza la eliminación automática del directorio temporal\n",
        "with TemporaryDirectory(dir='.') as td:\n",
        "    print('Temp directory:', td)  # Imprimimos la ubicación del directorio temporal\n",
        "\n",
        "    # Creamos un archivo temporal dentro del directorio temporal\n",
        "    with NamedTemporaryFile(dir=td) as t:\n",
        "        name = t.name  # Obtenemos el nombre completo del archivo temporal\n",
        "        print('Temporary file:', name)  # Imprimimos la ubicación del archivo temporal"
      ],
      "metadata": {
        "id": "VDdB4y2MyJFo"
      },
      "execution_count": null,
      "outputs": []
    },
    {
      "cell_type": "code",
      "source": [
        "# 14\n",
        "import os\n",
        "\n",
        "# Utilizamos os.walk para recorrer de forma recursiva los archivos y directorios en el directorio actual ('.')\n",
        "for root, dirs, files in os.walk('.'):\n",
        "    # Calculamos la ruta absoluta del directorio actual\n",
        "    abs_root = os.path.abspath(root)\n",
        "    print(abs_root)  # Imprimimos la ubicación del directorio actual\n",
        "\n",
        "    # Si hay subdirectorios, los mostramos\n",
        "    if dirs:\n",
        "        print('Directories:')\n",
        "        for dir_ in dirs:\n",
        "            print(dir_)\n",
        "\n",
        "    # Si hay archivos, los mostramos\n",
        "    if files:\n",
        "        print('Files:')\n",
        "        for filename in files:\n",
        "            print(filename)\n",
        "\n",
        "    # Imprimimos una línea en blanco para separar los resultados de un directorio de otro\n",
        "    print()"
      ],
      "metadata": {
        "id": "2sI-ntyXzOA5"
      },
      "execution_count": null,
      "outputs": []
    },
    {
      "cell_type": "code",
      "source": [
        "#15\n",
        "import json\n",
        "\n",
        "class ComplexEncoder(json.JSONEncoder):\n",
        "    def default(self, obj):\n",
        "        print(f\"ComplexEncoder.default: {obj=}\")\n",
        "        if isinstance(obj, complex):\n",
        "            return {\n",
        "                '_meta': '_complex',\n",
        "                'num': [obj.real, obj.imag],\n",
        "            }\n",
        "        return super().default(obj)\n",
        "\n",
        "data = {\n",
        "    'an_int': 42,\n",
        "    'a_float': 3.14159265,\n",
        "    'a_complex': 3 + 4j,\n",
        "}\n",
        "\n",
        "# Serializa el diccionario 'data' en formato JSON utilizando ComplexEncoder\n",
        "json_data = json.dumps(data, cls=ComplexEncoder)\n",
        "print(json_data)\n",
        "\n",
        "def object_hook(obj):\n",
        "    print(f\"object_hook: {obj=}\")\n",
        "    try:\n",
        "        if obj['_meta'] == '_complex':\n",
        "            return complex(*obj['num'])\n",
        "    except KeyError:\n",
        "        return obj\n",
        "\n",
        "# Deserializa la cadena JSON 'json_data' y utiliza object_hook para reconstruir objetos complejos\n",
        "data_out = json.loads(json_data, object_hook=object_hook)\n",
        "print(data_out)"
      ],
      "metadata": {
        "id": "JZ-hMPGKzz6B"
      },
      "execution_count": null,
      "outputs": []
    },
    {
      "cell_type": "code",
      "source": [
        "#16\n",
        "import io\n",
        "\n",
        "# Creamos un objeto io.StringIO\n",
        "stream = io.StringIO()\n",
        "\n",
        "# Escribimos una cadena en el objeto stream\n",
        "stream.write('Learning Python Programming.\\n')\n",
        "\n",
        "# Utilizamos la función print para escribir otra cadena en el objeto stream\n",
        "print('Become a Python ninja!', file=stream)\n",
        "\n",
        "# Obtenemos el contenido completo del objeto stream\n",
        "contents = stream.getvalue()\n",
        "\n",
        "# Imprimimos el contenido\n",
        "print(contents)\n",
        "\n",
        "# Cerramos el objeto stream (buena práctica, aunque no es estrictamente necesario en este caso)\n",
        "stream.close()"
      ],
      "metadata": {
        "id": "IpeV2mRI4ld8"
      },
      "execution_count": null,
      "outputs": []
    },
    {
      "cell_type": "code",
      "source": [
        "#17\n",
        "import pickle\n",
        "from dataclasses import dataclass\n",
        "\n",
        "@dataclass\n",
        "class Person:\n",
        "    first_name: str\n",
        "    last_name: str\n",
        "    id: int\n",
        "\n",
        "    def greet(self):\n",
        "        print(f'Hi, I am {self.first_name} {self.last_name} and my ID is {self.id}')\n",
        "\n",
        "# Crear instancias de la clase Person\n",
        "people = [\n",
        "    Person('Obi-Wan', 'Kenobi', 123),\n",
        "    Person('Anakin', 'Skywalker', 456),\n",
        "]\n",
        "\n",
        "# Guardar los datos en formato binario en un archivo\n",
        "with open('data.pickle', 'wb') as stream:\n",
        "    pickle.dump(people, stream)\n",
        "\n",
        "# Cargar los datos desde un archivo\n",
        "with open('data.pickle', 'rb') as stream:\n",
        "    peeps = pickle.load(stream)\n",
        "\n",
        "# Saludar a las personas cargadas desde el archivo\n",
        "for person in peeps:\n",
        "    person.greet()"
      ],
      "metadata": {
        "id": "vl8G76DH5S0b"
      },
      "execution_count": null,
      "outputs": []
    },
    {
      "cell_type": "code",
      "source": [
        "#18\n",
        "# Importamos el módulo 'shelve' para trabajar con bases de datos simples y persistentes.\n",
        "import shelve\n",
        "\n",
        "# Definimos una clase llamada 'Person' para representar personas.\n",
        "class Person:\n",
        "    def __init__(self, name, id):\n",
        "        self.name = name\n",
        "        self.id = id\n",
        "\n",
        "# Abrimos una base de datos llamada 'shelf1.shelve' usando 'shelve' y usamos un contexto 'with' para asegurarnos de que se cierre adecuadamente.\n",
        "with shelve.open('shelf1.shelve') as db:\n",
        "    # Creamos dos objetos 'Person' y los almacenamos en la base de datos con claves 'obi1' y 'ani'.\n",
        "    db['obi1'] = Person('Obi-Wan', 123)\n",
        "    db['ani'] = Person('Anakin', 456)\n",
        "\n",
        "    # Almacenamos una lista en la base de datos con la clave 'a_list'.\n",
        "    db['a_list'] = [2, 3, 5]\n",
        "\n",
        "    # Almacenamos una cadena de texto en la base de datos con la clave 'delete_me'.\n",
        "    db['delete_me'] = 'we will have to delete this one...'\n",
        "\n",
        "    # Imprimimos la lista de claves presentes en la base de datos.\n",
        "    print(list(db.keys()))\n",
        "\n",
        "    # Eliminamos la entrada con la clave 'delete_me' de la base de datos.\n",
        "    del db['delete_me']\n",
        "\n",
        "    # Imprimimos la lista de claves después de eliminar 'delete_me'.\n",
        "    print(list(db.keys()))\n",
        "\n",
        "    # Verificamos si 'delete_me' todavía está en la base de datos (debería ser 'False' porque lo eliminamos).\n",
        "    print('delete_me' in db)\n",
        "\n",
        "    # Verificamos si 'ani' está en la base de datos (debería ser 'True' porque aún está presente).\n",
        "    print('ani' in db)\n",
        "\n",
        "    # Obtenemos la lista 'a_list' de la base de datos, agregamos el número 7 y la volvemos a almacenar en la base de datos.\n",
        "    a_list = db['a_list']\n",
        "    a_list.append(7)\n",
        "    db['a_list'] = a_list\n",
        "\n",
        "    # Imprimimos el valor actual de 'a_list' en la base de datos.\n",
        "    print(db['a_list'])"
      ],
      "metadata": {
        "id": "02hTFudq7TiL"
      },
      "execution_count": null,
      "outputs": []
    },
    {
      "cell_type": "code",
      "source": [
        "# 19\n",
        "from pathlib import Path\n",
        "\n",
        "# Crear un objeto Path que representa la ruta del archivo 'fear.txt'\n",
        "p = Path('fear.txt')\n",
        "\n",
        "# Obtener la ruta absoluta del directorio padre de 'fear.txt'\n",
        "path = p.parent.absolute()\n",
        "\n",
        "# Comprobar si 'fear.txt' existe como archivo\n",
        "print(p.is_file())  # Esto imprimirá True si 'fear.txt' existe como archivo\n",
        "\n",
        "# Imprimir la ruta absoluta del directorio padre de 'fear.txt'\n",
        "print(path)\n",
        "\n",
        "# Comprobar si el directorio representado por 'path' existe\n",
        "print(path.is_dir())  # Esto imprimirá True si el directorio existe\n",
        "\n",
        "# Crear un nuevo objeto Path que representa la ruta absoluta '/Users/fab/srv/lpp3e/ch08/files'\n",
        "q = Path('/Users/fab/srv/lpp3e/ch08/files')\n",
        "\n",
        "# Comprobar si el directorio representado por 'q' existe\n",
        "print(q.is_dir())  # Esto imprimirá True si el directorio '/Users/fab/srv\n"
      ],
      "metadata": {
        "id": "7Nj05yVk7rHt"
      },
      "execution_count": null,
      "outputs": []
    },
    {
      "cell_type": "code",
      "source": [
        "# 20\n",
        "from tempfile import NamedTemporaryFile, TemporaryDirectory\n",
        "\n",
        "# Abre un directorio temporal (TemporaryDirectory) en el directorio actual\n",
        "with TemporaryDirectory(dir='.') as td:\n",
        "    print('Temp directory:', td)\n",
        "\n",
        "    # Abre un archivo temporal (NamedTemporaryFile) dentro del directorio temporal\n",
        "    with NamedTemporaryFile(dir=td) as t:\n",
        "        name = t.name\n",
        "        print('Temp file:', name)"
      ],
      "metadata": {
        "id": "WExeuqEsni1O"
      },
      "execution_count": null,
      "outputs": []
    }
  ]
}